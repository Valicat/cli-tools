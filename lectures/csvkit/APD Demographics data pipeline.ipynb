{
 "cells": [
  {
   "cell_type": "markdown",
   "metadata": {},
   "source": [
    "# APD Demographics data pipeline\n",
    "\n",
    "This is a bash shell script that uses [csvkit](https://csvkit.readthedocs.org) to download a series of Excel files, then the many individual sheets those files into a single file.\n",
    "\n",
    "We need to:\n",
    "- download all the files using `curl` into our working directory\n",
    "- use csvkit commands to combine them into a single file\n",
    "- get some quick stats?\n",
    "- I would next clean a little in OpenRefine\n",
    "- Use Tableau to visualize\n",
    "\n",
    "We may not get to those last couple of steps. This is more about getting the combined file.\n",
    "\n",
    "Of note: the speadsheet names that we need are:\n",
    "\n",
    "- AsstChief\n",
    "- Cmdr\n",
    "- Lt\n",
    "- Sgt\n",
    "- Det\n",
    "- Corp\n",
    "- PO\n",
    "- Cadets\n"
   ]
  },
  {
   "cell_type": "markdown",
   "metadata": {},
   "source": [
    "## Create directory to download data\n",
    "\n",
    "By this point, we should have already created our class directory inside of our home directory. Our next step is to create the folder where we will pull down our data."
   ]
  },
  {
   "cell_type": "code",
   "execution_count": 48,
   "metadata": {
    "collapsed": false
   },
   "outputs": [
    {
     "name": "stdout",
     "output_type": "stream",
     "text": [
      "/Users/christian/Documents/rwd2016/apd/data\r\n"
     ]
    }
   ],
   "source": [
    "# type these commands into your notebook\n",
    "# include this note with # at beginning:\n",
    "\n",
    "# set up folders if not there already\n",
    "# go to home folder, then Documents\n",
    "cd ~/Documents/rwd2016/\n",
    "\n",
    "# create apd inside class directory\n",
    "mkdir -p apd/\n",
    "\n",
    "# creeate data inside that directory\n",
    "mkdir -p apd/data/\n",
    "\n",
    "# create data-done directory\n",
    "mkdir -p apd/data-done/\n",
    "\n",
    "# go inside the data directory\n",
    "cd apd/data/\n",
    "\n",
    "# print working directory to make sure you are in it\n",
    "pwd"
   ]
  },
  {
   "cell_type": "markdown",
   "metadata": {},
   "source": [
    "## Getting the data\n",
    "\n",
    "We'll use a new command called `curl` to download our data. For more information on curl, you can read the [man page](https://curl.haxx.se/docs/manpage.html) or this [handy tip sheet](http://www.thegeekstuff.com/2012/04/curl-examples/), which is much more understandable.\n",
    "\n",
    "Since we are in a Bash notebook, we can use our command-line tools. We are going to pull down 12 files of a similar name. Before we do, let's break down the `curl` statement below.\n",
    "\n",
    "* `curl` is the command. I think of it as \"capture URL\". [man curl](http://man.cx/curl)\n",
    "* `-O` (that's capital O, not zero). This outputs result to a file to your computer instead of to your screen, using the same file name as it was originally.\n",
    "* `-L` stands for `--location`, and it will allow the request to follow a redirect link. It's good to use it.\n",
    "* And then we have the url of the file.\n",
    "  * We did something special in the URL to the file. There are 12 files, named 2005.xls, 2006.xls, etc., up to 2016.xls. We used brackets to give `curl` a series of filenames to process all at once. This works because the filenames are sequential.\n"
   ]
  },
  {
   "cell_type": "code",
   "execution_count": 49,
   "metadata": {
    "collapsed": false
   },
   "outputs": [
    {
     "name": "stdout",
     "output_type": "stream",
     "text": [
      "\r\n",
      "[1/12]: https://raw.githubusercontent.com/utdata/cli-tools/master/data/apddemographics/2005.xls --> 2005.xls\r\n",
      "--_curl_--https://raw.githubusercontent.com/utdata/cli-tools/master/data/apddemographics/2005.xls\r\n",
      "  % Total    % Received % Xferd  Average Speed   Time    Time     Time  Current\r\n",
      "                                 Dload  Upload   Total   Spent    Left  Speed\r\n",
      "\r",
      "  0     0    0     0    0     0      0      0 --:--:-- --:--:-- --:--:--     0\r",
      "  0     0    0     0    0     0      0      0 --:--:--  0:00:01 --:--:--     0\r",
      "  0     0    0     0    0     0      0      0 --:--:--  0:00:02 --:--:--     0\r",
      "100  247k  100  247k    0     0   109k      0  0:00:02  0:00:02 --:--:--  109k\r\n",
      "\r\n",
      "[2/12]: https://raw.githubusercontent.com/utdata/cli-tools/master/data/apddemographics/2006.xls --> 2006.xls\r\n",
      "--_curl_--https://raw.githubusercontent.com/utdata/cli-tools/master/data/apddemographics/2006.xls\r\n",
      "\r",
      "100  249k  100  249k    0     0   869k      0 --:--:-- --:--:-- --:--:--  869k\r\n",
      "\r\n",
      "[3/12]: https://raw.githubusercontent.com/utdata/cli-tools/master/data/apddemographics/2007.xls --> 2007.xls\r\n",
      "--_curl_--https://raw.githubusercontent.com/utdata/cli-tools/master/data/apddemographics/2007.xls\r\n",
      "\r",
      "100  254k  100  254k    0     0   971k      0 --:--:-- --:--:-- --:--:--  971k\r\n",
      "\r\n",
      "[4/12]: https://raw.githubusercontent.com/utdata/cli-tools/master/data/apddemographics/2008.xls --> 2008.xls\r\n",
      "--_curl_--https://raw.githubusercontent.com/utdata/cli-tools/master/data/apddemographics/2008.xls\r\n",
      "\r",
      " 11  268k   11 31976    0     0   195k      0  0:00:01 --:--:--  0:00:01  195k\r",
      "100  268k  100  268k    0     0  1003k      0 --:--:-- --:--:-- --:--:-- 2217k\r\n",
      "\r\n",
      "[5/12]: https://raw.githubusercontent.com/utdata/cli-tools/master/data/apddemographics/2009.xls --> 2009.xls\r\n",
      "--_curl_--https://raw.githubusercontent.com/utdata/cli-tools/master/data/apddemographics/2009.xls\r\n",
      "\r",
      "100  271k  100  271k    0     0   502k      0 --:--:-- --:--:-- --:--:--  502k\r\n",
      "\r\n",
      "[6/12]: https://raw.githubusercontent.com/utdata/cli-tools/master/data/apddemographics/2010.xls --> 2010.xls\r\n",
      "--_curl_--https://raw.githubusercontent.com/utdata/cli-tools/master/data/apddemographics/2010.xls\r\n",
      "\r",
      " 92  294k   92  271k    0     0   693k      0 --:--:-- --:--:-- --:--:--  693k\r",
      "100  294k  100  294k    0     0   726k      0 --:--:-- --:--:-- --:--:-- 1751k\r\n",
      "\r\n",
      "[7/12]: https://raw.githubusercontent.com/utdata/cli-tools/master/data/apddemographics/2011.xls --> 2011.xls\r\n",
      "--_curl_--https://raw.githubusercontent.com/utdata/cli-tools/master/data/apddemographics/2011.xls\r\n",
      "\r",
      "100  283k  100  283k    0     0   515k      0 --:--:-- --:--:-- --:--:--  515k\r\n",
      "\r\n",
      "[8/12]: https://raw.githubusercontent.com/utdata/cli-tools/master/data/apddemographics/2012.xls --> 2012.xls\r\n",
      "--_curl_--https://raw.githubusercontent.com/utdata/cli-tools/master/data/apddemographics/2012.xls\r\n",
      "\r",
      "100  293k  100  293k    0     0  1038k      0 --:--:-- --:--:-- --:--:-- 1038k\r\n",
      "\r\n",
      "[9/12]: https://raw.githubusercontent.com/utdata/cli-tools/master/data/apddemographics/2013.xls --> 2013.xls\r\n",
      "--_curl_--https://raw.githubusercontent.com/utdata/cli-tools/master/data/apddemographics/2013.xls\r\n",
      "\r",
      "  0     0    0     0    0     0      0      0 --:--:-- --:--:-- --:--:--     0\r",
      "100  297k  100  297k    0     0  1037k      0 --:--:-- --:--:-- --:--:-- 2095k\r\n",
      "\r\n",
      "[10/12]: https://raw.githubusercontent.com/utdata/cli-tools/master/data/apddemographics/2014.xls --> 2014.xls\r\n",
      "--_curl_--https://raw.githubusercontent.com/utdata/cli-tools/master/data/apddemographics/2014.xls\r\n",
      "\r",
      "100  301k  100  301k    0     0  1005k      0 --:--:-- --:--:-- --:--:-- 1005k\r\n",
      "\r\n",
      "[11/12]: https://raw.githubusercontent.com/utdata/cli-tools/master/data/apddemographics/2015.xls --> 2015.xls\r\n",
      "--_curl_--https://raw.githubusercontent.com/utdata/cli-tools/master/data/apddemographics/2015.xls\r\n",
      "\r",
      "100  311k  100  311k    0     0   870k      0 --:--:-- --:--:-- --:--:--  870k\r\n",
      "\r\n",
      "[12/12]: https://raw.githubusercontent.com/utdata/cli-tools/master/data/apddemographics/2016.xls --> 2016.xls\r\n",
      "--_curl_--https://raw.githubusercontent.com/utdata/cli-tools/master/data/apddemographics/2016.xls\r\n",
      "\r",
      "  0     0    0     0    0     0      0      0 --:--:-- --:--:-- --:--:--     0\r",
      "100  319k  100  319k    0     0   534k      0 --:--:-- --:--:-- --:--:-- 1743k\r\n"
     ]
    }
   ],
   "source": [
    "# curl command to download files from my github repo\n",
    "curl -O -L https://raw.githubusercontent.com/utdata/cli-tools/master/data/apddemographics/[2005-2016].xls"
   ]
  },
  {
   "cell_type": "code",
   "execution_count": 50,
   "metadata": {
    "collapsed": false
   },
   "outputs": [
    {
     "name": "stdout",
     "output_type": "stream",
     "text": [
      "2005.xls\t2008.xls\t2011.xls\t2014.xls\r\n",
      "2006.xls\t2009.xls\t2012.xls\t2015.xls\r\n",
      "2007.xls\t2010.xls\t2013.xls\t2016.xls\r\n"
     ]
    }
   ],
   "source": [
    "# Let's check that we got all the files. There should be 12 of them.\n",
    "ls"
   ]
  },
  {
   "cell_type": "markdown",
   "metadata": {},
   "source": [
    "## Inspect one of the files\n",
    "\n",
    "You should go ahead and open the 2005.xls file in Excel and take a look at it.\n",
    "\n",
    "- There are multiple worksheets in each file\n",
    "- Each file is set up exactly the same, with the same fields and the same worksheet names. This would fail if they were not that way. (I actually standardized all these files before this assignment. They were close, but not perfect.)"
   ]
  },
  {
   "cell_type": "code",
   "execution_count": 51,
   "metadata": {
    "collapsed": false
   },
   "outputs": [
    {
     "name": "stdout",
     "output_type": "stream",
     "text": [
      "/Users/christian/Documents/rwd2016/apd\r\n"
     ]
    }
   ],
   "source": [
    "# let's change our directory to come out of the data directory\n",
    "# so we can process all these files\n",
    "\n",
    "# cd up one directory\n",
    "cd ../\n",
    "\n",
    "# then check where we are. We should be in the apd directory\n",
    "pwd"
   ]
  },
  {
   "cell_type": "markdown",
   "metadata": {},
   "source": [
    "## Convert worksheets into csv files\n",
    "This command below is a bash loop that uses the csvkit command called [`in2csv`](https://csvkit.readthedocs.io/en/0.9.1/tutorial/1_getting_started.html#in2csv-the-excel-killer) to do a lot of processing of files all at once. There are 12 files, and they each have six worksheets that we want. This is like going into each file, then doing \"save as\" to make CSVs for each of the six worksheets. So 6 x 12 is 72 ... so 72 \"save as\" operations in one fell swoop.\n",
    "\n",
    "- `for` says we are starting loop, meaning we are going to repeat what is in `do` later.\n",
    "- `i` is a variable that is our marker for the worksheet names that follow.\n",
    "- `in` is setting up the array of worksheet names. We'll `do` everyhing for \"AsstChief\", then we'll come back to the top and `do` everything again, but for \"Cmdr\", etc."
   ]
  },
  {
   "cell_type": "code",
   "execution_count": 52,
   "metadata": {
    "collapsed": false,
    "scrolled": true
   },
   "outputs": [
    {
     "name": "stdout",
     "output_type": "stream",
     "text": []
    }
   ],
   "source": [
    "# Convert the worksheets of each file\n",
    "# It's probably best to copy and paste this into a new cell\n",
    "\n",
    "# set up loop with vars for each worksheet name in the files\n",
    "for i in AsstChief Cmdr Lt Sgt Det Corp PO Cadets\n",
    "\n",
    "# convert into csv for each sheet\n",
    "do\n",
    "    in2csv data/2005.xls --sheet $i > data-done/2005-$i.csv\n",
    "    in2csv data/2006.xls --sheet $i > data-done/2006-$i.csv\n",
    "    in2csv data/2007.xls --sheet $i > data-done/2007-$i.csv\n",
    "    in2csv data/2008.xls --sheet $i > data-done/2008-$i.csv\n",
    "    in2csv data/2009.xls --sheet $i > data-done/2009-$i.csv\n",
    "    in2csv data/2010.xls --sheet $i > data-done/2010-$i.csv\n",
    "    in2csv data/2011.xls --sheet $i > data-done/2011-$i.csv\n",
    "    in2csv data/2012.xls --sheet $i > data-done/2012-$i.csv\n",
    "    in2csv data/2013.xls --sheet $i > data-done/2013-$i.csv\n",
    "    in2csv data/2014.xls --sheet $i > data-done/2014-$i.csv\n",
    "    in2csv data/2015.xls --sheet $i > data-done/2015-$i.csv\n",
    "    in2csv data/2016.xls --sheet $i > data-done/2016-$i.csv\n",
    "done\n"
   ]
  },
  {
   "cell_type": "markdown",
   "metadata": {},
   "source": [
    "## Breaking down the in2csv command\n",
    "\n",
    "- `in2csv` is the command we are using. It converts various tabular formats to a csv file.\n",
    "- data/20XX.xls is the file name we are working on.\n",
    "- --sheet is a parameter of `in2csv` that says process a specific worksheet in the file.\n",
    "- `$1` is the worksheet name we are working on in this pass. So the first pass would be \"AsstChief\", and the next pass would be \"Cmdr\".\n",
    "- `>` says take the result of the previous command and write it into a new file.\n",
    "- `data-done/20XX-$1.csv` is the new file name, but we are using the worksheet name as part of the file. So the first line of the first pass would be `2005-AsstChief.csv`."
   ]
  },
  {
   "cell_type": "markdown",
   "metadata": {},
   "source": [
    "## Look at the files you created\n",
    "\n",
    "If you opened up that folder on your computer while this was running, you could watch the 72 files being created. You could even open them in Atom or Sublime (or even Excel) to see what they look like. There is one file for every worksheet in every file.\n",
    "\n",
    "We'll just make sure they are there by listing the directory."
   ]
  },
  {
   "cell_type": "code",
   "execution_count": 53,
   "metadata": {
    "collapsed": false
   },
   "outputs": [
    {
     "name": "stdout",
     "output_type": "stream",
     "text": [
      "2005-AsstChief.csv\t2009-AsstChief.csv\t2013-AsstChief.csv\r\n",
      "2005-Cadets.csv\t\t2009-Cadets.csv\t\t2013-Cadets.csv\r\n",
      "2005-Cmdr.csv\t\t2009-Cmdr.csv\t\t2013-Cmdr.csv\r\n",
      "2005-Corp.csv\t\t2009-Corp.csv\t\t2013-Corp.csv\r\n",
      "2005-Det.csv\t\t2009-Det.csv\t\t2013-Det.csv\r\n",
      "2005-Lt.csv\t\t2009-Lt.csv\t\t2013-Lt.csv\r\n",
      "2005-PO.csv\t\t2009-PO.csv\t\t2013-PO.csv\r\n",
      "2005-Sgt.csv\t\t2009-Sgt.csv\t\t2013-Sgt.csv\r\n",
      "2006-AsstChief.csv\t2010-AsstChief.csv\t2014-AsstChief.csv\r\n",
      "2006-Cadets.csv\t\t2010-Cadets.csv\t\t2014-Cadets.csv\r\n",
      "2006-Cmdr.csv\t\t2010-Cmdr.csv\t\t2014-Cmdr.csv\r\n",
      "2006-Corp.csv\t\t2010-Corp.csv\t\t2014-Corp.csv\r\n",
      "2006-Det.csv\t\t2010-Det.csv\t\t2014-Det.csv\r\n",
      "2006-Lt.csv\t\t2010-Lt.csv\t\t2014-Lt.csv\r\n",
      "2006-PO.csv\t\t2010-PO.csv\t\t2014-PO.csv\r\n",
      "2006-Sgt.csv\t\t2010-Sgt.csv\t\t2014-Sgt.csv\r\n",
      "2007-AsstChief.csv\t2011-AsstChief.csv\t2015-AsstChief.csv\r\n",
      "2007-Cadets.csv\t\t2011-Cadets.csv\t\t2015-Cadets.csv\r\n",
      "2007-Cmdr.csv\t\t2011-Cmdr.csv\t\t2015-Cmdr.csv\r\n",
      "2007-Corp.csv\t\t2011-Corp.csv\t\t2015-Corp.csv\r\n",
      "2007-Det.csv\t\t2011-Det.csv\t\t2015-Det.csv\r\n",
      "2007-Lt.csv\t\t2011-Lt.csv\t\t2015-Lt.csv\r\n",
      "2007-PO.csv\t\t2011-PO.csv\t\t2015-PO.csv\r\n",
      "2007-Sgt.csv\t\t2011-Sgt.csv\t\t2015-Sgt.csv\r\n",
      "2008-AsstChief.csv\t2012-AsstChief.csv\t2016-AsstChief.csv\r\n",
      "2008-Cadets.csv\t\t2012-Cadets.csv\t\t2016-Cadets.csv\r\n",
      "2008-Cmdr.csv\t\t2012-Cmdr.csv\t\t2016-Cmdr.csv\r\n",
      "2008-Corp.csv\t\t2012-Corp.csv\t\t2016-Corp.csv\r\n",
      "2008-Det.csv\t\t2012-Det.csv\t\t2016-Det.csv\r\n",
      "2008-Lt.csv\t\t2012-Lt.csv\t\t2016-Lt.csv\r\n",
      "2008-PO.csv\t\t2012-PO.csv\t\t2016-PO.csv\r\n",
      "2008-Sgt.csv\t\t2012-Sgt.csv\t\t2016-Sgt.csv\r\n"
     ]
    }
   ],
   "source": [
    "# list files in data-done\n",
    "ls data-done"
   ]
  },
  {
   "cell_type": "markdown",
   "metadata": {},
   "source": [
    "## Combining the files into one\n",
    "\n",
    "Our next trick is to use the csvkit command called `csvstack` to combine all the small csv files into a single combined file. This works because they all have the same header row.\n",
    "\n",
    "Let's break it down before we run it:\n",
    "\n",
    "- `csvstack` is the command. [Read about it here](https://csvkit.readthedocs.io/en/0.9.1/tutorial/3_power_tools.html#csvstack-combining-subsets).\n",
    "- `--filenames` is a parameter that adds the filename as a column in each row. This way we know from where each row came. We need this so we know which year the data came from.\n",
    "- `data-done/20*.csv` is the files we want to combine. We could list them all, but I used a shortcut by using the wildcard * to grab all the files that start with \"20\" and end with \".csv\".\n",
    "- `> data-done/combined.csv` says to take the output of the csvstack command and put it into a new file by this name."
   ]
  },
  {
   "cell_type": "code",
   "execution_count": 55,
   "metadata": {
    "collapsed": false
   },
   "outputs": [
    {
     "name": "stdout",
     "output_type": "stream",
     "text": []
    }
   ],
   "source": [
    "# Next is to CSVstack them using the filename as a grouping value\n",
    "# I can use the filename to pull ou the year later in OpenRefine.\n",
    "\n",
    "csvstack --filenames data-done/20*.csv > apd-demographics-2005-2016.csv"
   ]
  },
  {
   "cell_type": "markdown",
   "metadata": {
    "collapsed": true
   },
   "source": [
    "## Open the finished file\n",
    "\n",
    "Now if you go open the `combined.csv` file, you'll see 19,353 rows of data that all came from our 72 files, which were all pulled from our 12 Excel files."
   ]
  },
  {
   "cell_type": "markdown",
   "metadata": {},
   "source": [
    "## Feeling lucky?\n",
    "\n",
    "If everything went right, you can delete your `apd` folder, then go back to the top of the workbook, then go under to the Cell > Run All menu and it will do all your steps again, and you'll have your finished file."
   ]
  },
  {
   "cell_type": "markdown",
   "metadata": {},
   "source": [
    "## What's next with this analysis?\n",
    "\n",
    "When I worked on this file, I next pulled it into Open Refine and I used the filename column to create a \"Year\" column, along with some other little cleanup here and there.\n",
    "\n",
    "I then exported that and pulled it into Tableau so I could see how demographics changed in APD over the years.\n",
    "\n",
    "What questions would you ask this data?"
   ]
  },
  {
   "cell_type": "markdown",
   "metadata": {},
   "source": [
    "## Turn in your files\n",
    "\n",
    "- Save your jupyter notebook that you are working on\n",
    "- close the windows\n",
    "- Go to your terminal and do Control-c, then say 'yes' to shutting down the server\n",
    "- upload your .ipynb file and your finished csv \"apd-demographics-2005-2016.csv\" to the assignment."
   ]
  },
  {
   "cell_type": "code",
   "execution_count": null,
   "metadata": {
    "collapsed": true
   },
   "outputs": [],
   "source": []
  }
 ],
 "metadata": {
  "kernelspec": {
   "display_name": "Bash",
   "language": "bash",
   "name": "bash"
  },
  "language_info": {
   "codemirror_mode": "shell",
   "file_extension": ".sh",
   "mimetype": "text/x-sh",
   "name": "bash"
  }
 },
 "nbformat": 4,
 "nbformat_minor": 0
}
