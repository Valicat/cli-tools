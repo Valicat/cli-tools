{
 "cells": [
  {
   "cell_type": "markdown",
   "metadata": {},
   "source": [
    "# APD Demographic data prep\n",
    "\n",
    "Shell script to process many individual sheets in many spreadsheet files. I at first tried to process the original raw files, but I had to go into each one for one reason or another, so I went ahead and standardized them by:\n",
    "\n",
    "- Renamed the first sheet \"Asst Chief\" to \"AsstChief\" to remove the space. Makes it eaiser to target the sheet in a bash loop.\n",
    "- Deleted erroneous columns on each worksheet.\n",
    "- Resaving as old version of excel to:\n",
    "    - Make the names consistent\n",
    "    - To avoid annoying python warnings\n",
    "\n",
    "These files were saved into `/data-process/`\n",
    "\n",
    "The Speadsheet names that we need are:\n",
    "\n",
    "- AsstChief\n",
    "- Cmdr\n",
    "- Lt\n",
    "- Sgt\n",
    "- Det\n",
    "- Corp\n",
    "- PO\n",
    "- Cadets\n"
   ]
  },
  {
   "cell_type": "code",
   "execution_count": 9,
   "metadata": {
    "collapsed": false,
    "scrolled": true
   },
   "outputs": [
    {
     "name": "stdout",
     "output_type": "stream",
     "text": [
      "2005.xls\t2008.xls\t2011.xls\t2014.xls\r\n",
      "2006.xls\t2009.xls\t2012.xls\t2015.xls\r\n",
      "2007.xls\t2010.xls\t2013.xls\t2016.xls\r\n"
     ]
    }
   ],
   "source": [
    "# List the files in processing folder\n",
    "ls data-process"
   ]
  },
  {
   "cell_type": "code",
   "execution_count": 16,
   "metadata": {
    "collapsed": false
   },
   "outputs": [
    {
     "name": "stdout",
     "output_type": "stream",
     "text": []
    }
   ],
   "source": [
    "# Clear the data folder for fresh running\n",
    "rm -rf data/*"
   ]
  },
  {
   "cell_type": "code",
   "execution_count": 17,
   "metadata": {
    "collapsed": false,
    "scrolled": true
   },
   "outputs": [
    {
     "name": "stdout",
     "output_type": "stream",
     "text": []
    }
   ],
   "source": [
    "# Convert the worksheets of each file\n",
    "\n",
    "# set up loop with vars of the names of hte worksheet\n",
    "for i in AsstChief Cmdr Lt Sgt Det Corp PO Cadets\n",
    "\n",
    "# convert into csv for each sheet\n",
    "do\n",
    "    in2csv data-process/'2005.xls' --sheet $i > data/2005-$i.csv\n",
    "    in2csv data-process/'2006.xls' --sheet $i > data/2006-$i.csv\n",
    "    in2csv data-process/'2007.xls' --sheet $i > data/2007-$i.csv\n",
    "    in2csv data-process/'2008.xls' --sheet $i > data/2008-$i.csv\n",
    "    in2csv data-process/'2009.xls' --sheet $i > data/2009-$i.csv\n",
    "    in2csv data-process/'2010.xls' --sheet $i > data/2010-$i.csv\n",
    "    in2csv data-process/'2011.xls' --sheet $i > data/2011-$i.csv\n",
    "    in2csv data-process/'2012.xls' --sheet $i > data/2012-$i.csv\n",
    "    in2csv data-process/'2013.xls' --sheet $i > data/2013-$i.csv\n",
    "    in2csv data-process/'2014.xls' --sheet $i > data/2014-$i.csv\n",
    "    in2csv data-process/'2015.xls' --sheet $i > data/2015-$i.csv\n",
    "    in2csv data-process/'2016.xls' --sheet $i > data/2016-$i.csv\n",
    "done\n"
   ]
  },
  {
   "cell_type": "code",
   "execution_count": 19,
   "metadata": {
    "collapsed": false
   },
   "outputs": [
    {
     "name": "stdout",
     "output_type": "stream",
     "text": []
    }
   ],
   "source": [
    "# Next is to CSVstack them using the filename as a grouping value\n",
    "# I can use the filename to pull ou tht year.\n",
    "\n",
    "csvstack --filenames data/20*.csv > data/combined.csv"
   ]
  },
  {
   "cell_type": "code",
   "execution_count": null,
   "metadata": {
    "collapsed": true
   },
   "outputs": [],
   "source": []
  }
 ],
 "metadata": {
  "kernelspec": {
   "display_name": "Bash",
   "language": "bash",
   "name": "bash"
  },
  "language_info": {
   "codemirror_mode": "shell",
   "file_extension": ".sh",
   "mimetype": "text/x-sh",
   "name": "bash"
  }
 },
 "nbformat": 4,
 "nbformat_minor": 0
}
