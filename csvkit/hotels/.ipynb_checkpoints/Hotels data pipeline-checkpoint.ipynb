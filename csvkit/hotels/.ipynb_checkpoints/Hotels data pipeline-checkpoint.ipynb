{
 "cells": [
  {
   "cell_type": "markdown",
   "metadata": {},
   "source": [
    "Hotels data pipeline\n",
    "====================\n",
    "\n",
    "We'll use this notebook to show how to build a data pipeline to process data. This could also be rerun with new data if need be.* \n",
    "\n",
    "We'll be using Hotel Occupancy Tax Receipts data, which can be used to see which hotels around the state pull in the most money. For more information about the data itself, see this [README.md](https://github.com/utdata/cli-tools/blob/master/hoteltax/README.md).\n",
    "\n",
    "\n",
    "## The Goal\n",
    "\n",
    "* We're going to download one year of monthly files.\n",
    "* We'll convert them into well-formatted csv files.\n",
    "* We'll then put all those monthly files into a single big file.\n",
    "* We'll then pull out just hotels in Austin.\n",
    "\n",
    "## Getting the data\n",
    "\n",
    "We'll use a new command called `curl` to download our data. For more information on curl, you can read the [man page](https://curl.haxx.se/docs/manpage.html) or this [handy tip sheet](http://www.thegeekstuff.com/2012/04/curl-examples/), which is much more understandable.\n",
    "\n",
    "Since we are in a Bash notebook, we can use our command-line tools. Let's make sure we know where we are. Type in `pwd` in the prompt below and then do shift-return to execute the command."
   ]
  },
  {
   "cell_type": "code",
   "execution_count": 10,
   "metadata": {
    "collapsed": false
   },
   "outputs": [
    {
     "name": "stdout",
     "output_type": "stream",
     "text": [
      "/Users/christian/Documents/code/cli-tools/csvkit/hotels\r\n"
     ]
    }
   ],
   "source": [
    "pwd"
   ]
  },
  {
   "cell_type": "markdown",
   "metadata": {},
   "source": [
    "Ok, we need to be inside the data folder when we download or data, so let us move there:"
   ]
  },
  {
   "cell_type": "code",
   "execution_count": 20,
   "metadata": {
    "collapsed": false
   },
   "outputs": [
    {
     "name": "stdout",
     "output_type": "stream",
     "text": []
    }
   ],
   "source": [
    "cd data"
   ]
  },
  {
   "cell_type": "code",
   "execution_count": 2,
   "metadata": {
    "collapsed": false
   },
   "outputs": [
    {
     "name": "stdout",
     "output_type": "stream",
     "text": [
      "/Users/christian/Documents/code/cli-tools/csvkit/hotels/data\r\n"
     ]
    }
   ],
   "source": [
    "pwd"
   ]
  },
  {
   "cell_type": "markdown",
   "metadata": {},
   "source": [
    "Now we'll use `curl` to pull down a single monthly hotel tax file. If you read about the tax data, you'll see you can get it from the comptroller, but they have some naming issues, so to help with this assignment, I've saved the data and we'll pull it down from this github repo."
   ]
  },
  {
   "cell_type": "code",
   "execution_count": 21,
   "metadata": {
    "collapsed": false
   },
   "outputs": [
    {
     "name": "stdout",
     "output_type": "stream",
     "text": [
      "  % Total    % Received % Xferd  Average Speed   Time    Time     Time  Current\r\n",
      "                                 Dload  Upload   Total   Spent    Left  Speed\r\n",
      "\r",
      "  0     0    0     0    0     0      0      0 --:--:-- --:--:-- --:--:--     0\r",
      "  3 2769k    3 97511    0     0   145k      0  0:00:19 --:--:--  0:00:19  153k\r",
      " 45 2769k   45 1263k    0     0   762k      0  0:00:03  0:00:01  0:00:02  780k\r",
      " 86 2769k   86 2383k    0     0   895k      0  0:00:03  0:00:02  0:00:01  908k\r",
      "100 2769k  100 2769k    0     0   971k      0  0:00:02  0:00:02 --:--:--  984k\r\n"
     ]
    }
   ],
   "source": [
    "curl -O -L https://raw.githubusercontent.com/utdata/cli-tools/master/hoteltax/data/hotl1501.csv"
   ]
  },
  {
   "cell_type": "markdown",
   "metadata": {},
   "source": [
    "Let's break down that `curl` statement.\n",
    "\n",
    "* `curl` is the command. I think of it as \"capture URL\"\n",
    "* `-O` (that's capital O, not zero). This outputs result to a file to your computer instead of to your screen.\n",
    "* `-L` stands for `--location`, and it will allow the request to follow a redirect link. It's good to use it.\n",
    "* And then we have the url of the file.\n",
    "\n",
    "Let's check that the file made it to our computer, and if some data in it:"
   ]
  },
  {
   "cell_type": "code",
   "execution_count": 17,
   "metadata": {
    "collapsed": false
   },
   "outputs": [
    {
     "name": "stdout",
     "output_type": "stream",
     "text": [
      "total 5544\r\n",
      "-rw-r--r--  1 christian  staff  2836275 Jul 10 12:42 hotl1501.csv\r\n"
     ]
    }
   ],
   "source": [
    "ls -l"
   ]
  },
  {
   "cell_type": "markdown",
   "metadata": {},
   "source": [
    "Looks like it is there, and it is 2.8M. Pretty big file.\n",
    "\n",
    "Because our file names are well formatted, we can pull down multiple files at the same time. The file names have `hotl` followed by the year and month: `YYMM`. There is a feature in `curl` where we can get sequences of alphanumeric series in the url by using [], like this:"
   ]
  },
  {
   "cell_type": "code",
   "execution_count": 27,
   "metadata": {
    "collapsed": false
   },
   "outputs": [
    {
     "name": "stdout",
     "output_type": "stream",
     "text": [
      "\r\n",
      "[1/12]: https://raw.githubusercontent.com/utdata/cli-tools/master/hoteltax/data/hotl1501.csv --> hotl1501.csv\r\n",
      "--_curl_--https://raw.githubusercontent.com/utdata/cli-tools/master/hoteltax/data/hotl1501.csv\r\n",
      "  % Total    % Received % Xferd  Average Speed   Time    Time     Time  Current\r\n",
      "                                 Dload  Upload   Total   Spent    Left  Speed\r\n",
      "\r",
      "  0     0    0     0    0     0      0      0 --:--:-- --:--:-- --:--:--     0\r",
      "  0     0    0     0    0     0      0      0 --:--:--  0:00:01 --:--:--     0\r",
      " 21 2769k   21  591k    0     0   279k      0  0:00:09  0:00:02  0:00:07  348k\r",
      " 76 2769k   76 2111k    0     0   678k      0  0:00:04  0:00:03  0:00:01  783k\r",
      "100 2769k  100 2769k    0     0   785k      0  0:00:03  0:00:03 --:--:--  891k\r\n",
      "\r\n",
      "[2/12]: https://raw.githubusercontent.com/utdata/cli-tools/master/hoteltax/data/hotl1502.csv --> hotl1502.csv\r\n",
      "--_curl_--https://raw.githubusercontent.com/utdata/cli-tools/master/hoteltax/data/hotl1502.csv\r\n",
      "\r",
      "  0     0    0     0    0     0      0      0 --:--:-- --:--:-- --:--:--     0\r",
      " 45 2732k   45 1231k    0     0   804k      0  0:00:03  0:00:01  0:00:02 1902k\r",
      " 81 2732k   81 2239k    0     0   884k      0  0:00:03  0:00:02  0:00:01 1359k\r",
      "100 2732k  100 2732k    0     0   967k      0  0:00:02  0:00:02 --:--:-- 1407k\r\n",
      "\r\n",
      "[3/12]: https://raw.githubusercontent.com/utdata/cli-tools/master/hoteltax/data/hotl1503.csv --> hotl1503.csv\r\n",
      "--_curl_--https://raw.githubusercontent.com/utdata/cli-tools/master/hoteltax/data/hotl1503.csv\r\n",
      "\r",
      " 11 2738k   11  319k    0     0   457k      0  0:00:05 --:--:--  0:00:05  457k\r",
      " 77 2738k   77 2111k    0     0  1244k      0  0:00:02  0:00:01  0:00:01 1792k\r",
      "100 2738k  100 2738k    0     0  1244k      0  0:00:02  0:00:02 --:--:-- 1610k\r\n",
      "\r\n",
      "[4/12]: https://raw.githubusercontent.com/utdata/cli-tools/master/hoteltax/data/hotl1504.csv --> hotl1504.csv\r\n",
      "--_curl_--https://raw.githubusercontent.com/utdata/cli-tools/master/hoteltax/data/hotl1504.csv\r\n",
      "\r",
      "  0     0    0     0    0     0      0      0 --:--:--  0:00:01 --:--:--     0\r",
      " 12 2726k   12  335k    0     0   225k      0  0:00:12  0:00:01  0:00:11  696k\r",
      " 65 2726k   65 1793k    0     0   720k      0  0:00:03  0:00:02  0:00:01 1208k\r",
      "100 2726k  100 2726k    0     0   894k      0  0:00:03  0:00:03 --:--:-- 1335k\r\n",
      "\r\n",
      "[5/12]: https://raw.githubusercontent.com/utdata/cli-tools/master/hoteltax/data/hotl1505.csv --> hotl1505.csv\r\n",
      "--_curl_--https://raw.githubusercontent.com/utdata/cli-tools/master/hoteltax/data/hotl1505.csv\r\n",
      "\r",
      "  6 2739k    6  191k    0     0   441k      0  0:00:06 --:--:--  0:00:06  441k\r",
      " 71 2739k   71 1967k    0     0  1372k      0  0:00:01  0:00:01 --:--:-- 1776k\r",
      "100 2739k  100 2739k    0     0  1483k      0  0:00:01  0:00:01 --:--:-- 1803k\r\n",
      "\r\n",
      "[6/12]: https://raw.githubusercontent.com/utdata/cli-tools/master/hoteltax/data/hotl1506.csv --> hotl1506.csv\r\n",
      "--_curl_--https://raw.githubusercontent.com/utdata/cli-tools/master/hoteltax/data/hotl1506.csv\r\n",
      "\r",
      "  7 2816k    7  207k    0     0   355k      0  0:00:07 --:--:--  0:00:07  355k\r",
      " 70 2816k   70 1980k    0     0  1262k      0  0:00:02  0:00:01  0:00:01 1796k\r",
      "100 2816k  100 2816k    0     0  1399k      0  0:00:02  0:00:02 --:--:-- 1825k\r\n",
      "\r\n",
      "[7/12]: https://raw.githubusercontent.com/utdata/cli-tools/master/hoteltax/data/hotl1507.csv --> hotl1507.csv\r\n",
      "--_curl_--https://raw.githubusercontent.com/utdata/cli-tools/master/hoteltax/data/hotl1507.csv\r\n",
      "\r",
      "  0     0    0     0    0     0      0      0 --:--:-- --:--:-- --:--:--     0\r",
      " 55 2813k   55 1551k    0     0  1000k      0  0:00:02  0:00:01  0:00:01 1641k\r",
      "100 2813k  100 2813k    0     0  1233k      0  0:00:02  0:00:02 --:--:-- 1680k\r\n",
      "\r\n",
      "[8/12]: https://raw.githubusercontent.com/utdata/cli-tools/master/hoteltax/data/hotl1508.csv --> hotl1508.csv\r\n",
      "--_curl_--https://raw.githubusercontent.com/utdata/cli-tools/master/hoteltax/data/hotl1508.csv\r\n",
      "\r",
      "  0     0    0     0    0     0      0      0 --:--:-- --:--:-- --:--:--     0\r",
      " 53 2892k   53 1551k    0     0  1232k      0  0:00:02  0:00:01  0:00:01 1875k\r",
      "100 2892k  100 2892k    0     0  1460k      0  0:00:01  0:00:01 --:--:-- 1869k\r\n",
      "\r\n",
      "[9/12]: https://raw.githubusercontent.com/utdata/cli-tools/master/hoteltax/data/hotl1509.csv --> hotl1509.csv\r\n",
      "--_curl_--https://raw.githubusercontent.com/utdata/cli-tools/master/hoteltax/data/hotl1509.csv\r\n",
      "\r",
      "  0     0    0     0    0     0      0      0 --:--:-- --:--:-- --:--:--     0\r",
      " 44 2918k   44 1295k    0     0  1019k      0  0:00:02  0:00:01  0:00:01 1913k\r",
      "100 2918k  100 2918k    0     0  1347k      0  0:00:02  0:00:02 --:--:-- 1857k\r\n",
      "\r\n",
      "[10/12]: https://raw.githubusercontent.com/utdata/cli-tools/master/hoteltax/data/hotl1510.csv --> hotl1510.csv\r\n",
      "--_curl_--https://raw.githubusercontent.com/utdata/cli-tools/master/hoteltax/data/hotl1510.csv\r\n",
      "\r",
      "  0     0    0     0    0     0      0      0 --:--:-- --:--:-- --:--:--     0\r",
      " 58 2641k   58 1551k    0     0  1407k      0  0:00:01  0:00:01 --:--:-- 1862k\r",
      "100 2641k  100 2641k    0     0  1562k      0  0:00:01  0:00:01 --:--:-- 1860k\r\n",
      "\r\n",
      "[11/12]: https://raw.githubusercontent.com/utdata/cli-tools/master/hoteltax/data/hotl1511.csv --> hotl1511.csv\r\n",
      "--_curl_--https://raw.githubusercontent.com/utdata/cli-tools/master/hoteltax/data/hotl1511.csv\r\n",
      "\r",
      "  0     0    0     0    0     0      0      0 --:--:-- --:--:-- --:--:--     0\r",
      " 44 2875k   44 1279k    0     0   908k      0  0:00:03  0:00:01  0:00:02 1867k\r",
      "100 2875k  100 2875k    0     0  1266k      0  0:00:02  0:00:02 --:--:-- 1861k\r\n",
      "\r\n",
      "[12/12]: https://raw.githubusercontent.com/utdata/cli-tools/master/hoteltax/data/hotl1512.csv --> hotl1512.csv\r\n",
      "--_curl_--https://raw.githubusercontent.com/utdata/cli-tools/master/hoteltax/data/hotl1512.csv\r\n",
      "\r",
      "  0     0    0     0    0     0      0      0 --:--:-- --:--:-- --:--:--     0\r",
      " 48 2963k   48 1423k    0     0  1257k      0  0:00:02  0:00:01  0:00:01 1694k\r",
      " 94 2963k   94 2799k    0     0  1308k      0  0:00:02  0:00:02 --:--:-- 1514k\r",
      "100 2963k  100 2963k    0     0  1322k      0  0:00:02  0:00:02 --:--:-- 1519k\r\n"
     ]
    }
   ],
   "source": [
    "curl -O -L https://raw.githubusercontent.com/utdata/cli-tools/master/hoteltax/data/hotl15[01-12].csv"
   ]
  },
  {
   "cell_type": "markdown",
   "metadata": {},
   "source": [
    "This pulled down all 12 files. Now we can take a look to make sure we have all the files."
   ]
  },
  {
   "cell_type": "code",
   "execution_count": 28,
   "metadata": {
    "collapsed": false
   },
   "outputs": [
    {
     "name": "stdout",
     "output_type": "stream",
     "text": [
      "total 67304\r\n",
      "-rw-r--r--  1 christian  staff  2836275 Jul 10 14:03 hotl1501.csv\r\n",
      "-rw-r--r--  1 christian  staff  2798250 Jul 10 14:03 hotl1502.csv\r\n",
      "-rw-r--r--  1 christian  staff  2804425 Jul 10 14:03 hotl1503.csv\r\n",
      "-rw-r--r--  1 christian  staff  2791750 Jul 10 14:03 hotl1504.csv\r\n",
      "-rw-r--r--  1 christian  staff  2805075 Jul 10 14:03 hotl1505.csv\r\n",
      "-rw-r--r--  1 christian  staff  2883725 Jul 10 14:03 hotl1506.csv\r\n",
      "-rw-r--r--  1 christian  staff  2880800 Jul 10 14:03 hotl1507.csv\r\n",
      "-rw-r--r--  1 christian  staff  2961725 Jul 10 14:03 hotl1508.csv\r\n",
      "-rw-r--r--  1 christian  staff  2988375 Jul 10 14:03 hotl1509.csv\r\n",
      "-rw-r--r--  1 christian  staff  2705300 Jul 10 14:03 hotl1510.csv\r\n",
      "-rw-r--r--  1 christian  staff  2944500 Jul 10 14:03 hotl1511.csv\r\n",
      "-rw-r--r--  1 christian  staff  3034525 Jul 10 14:03 hotl1512.csv\r\n"
     ]
    }
   ],
   "source": [
    "ls -l"
   ]
  },
  {
   "cell_type": "markdown",
   "metadata": {},
   "source": [
    "## Head to look at a file\n",
    "\n",
    "Let's take a look at the top of the first file. We'll use a command called `head` which looks at the first ten lines of the file. We'll also show that tab complete works here, so type in head hot and then hit tab, and you'll get a pop-up that shows available files to choose from. Choose the right one, then use shift-return to execute."
   ]
  },
  {
   "cell_type": "code",
   "execution_count": 24,
   "metadata": {
    "collapsed": false
   },
   "outputs": [
    {
     "name": "stdout",
     "output_type": "stream",
     "text": [
      "32050067050,\"COASTAL WAVES VACATIONS, LLC                      \",\"3616 7 MILE RD                          \",\"GALVESTON           \",\"TX\",\"77554\",084,00010,\" COASTAL WAVES VACATIONS                          \",\"4158 GREEN HERON DR                     \",\"GALVESTON           \",\"TX\",\"77554\",084,    1,       530.00,       530.00\r",
      "\r\n",
      "32049649729,\"ALL SEASONS RENTALS,  INC.                        \",\"15113 BAT HAWK CIR                      \",\"AUSTIN              \",\"TX\",\"78738\",227,00022,\" CROSSING C                                       \",\"613 HI CIR N                            \",\"HORSESHOE BAY       \",\"TX\",\"78657\",150,    1,         0.00,         0.00\r",
      "\r\n",
      "32039987733,\"TIRUPATI LODGING CORP.                            \",\"1407 S MAIN ST                          \",\"HIGHLANDS           \",\"TX\",\"77562\",101,00001,\" HIGHLANDS SUITES                                 \",\"1407 S MAIN ST                          \",\"HIGHLANDS           \",\"TX\",\"77562\",101,   31,     27264.87,     22864.87\r",
      "\r\n",
      "32001947285,\"IRMA A HARTMAN                                    \",\"2423 E MAIN ST                          \",\"EAGLE PASS          \",\"TX\",\"78852\",159,00001,\" HOLLY INN                                        \",\"2423 E MAIN ST                          \",\"EAGLE PASS          \",\"TX\",\"78852\",159,   70,      9553.98,      9553.98\r",
      "\r\n",
      "32046829167,\"SPI RENTALS, LLC                                  \",\"104 W BAHAMA ST STE B                   \",\"S PADRE ISLE        \",\"TX\",\"78597\",031,00046,\" SPI RENTALS, LLC - BEACH                         \",\"6401B BEACH DR                          \",\"SOUTH PADRE ISLAND  \",\"TX\",\"78597\",031,    1,      2670.00,      2670.00\r",
      "\r\n",
      "32015454328,\"WILLIAM T HOVESTADT                               \",\"PO BOX 310279                           \",\"NEW BRAUNFELS       \",\"TX\",\"78131\",046,00011,\" W T H INVESTMENTS                                \",\"777 CLOUD LN                            \",\"NEW BRAUNFELS       \",\"TX\",\"78130\",094,    1,      7589.00,      7589.00\r",
      "\r\n",
      "32009496855,\"MARCUS C STARKEY                                  \",\"PO BOX 1780                             \",\"PORT ARANSAS        \",\"TX\",\"78373\",178,00191,\"(LC28) MICHAEL OR DAWN COACH                      \",\"6877 STATE HIGHWAY 361                  \",\"PORT ARANSAS        \",\"TX\",\"78373\",178,    1,         0.00,         0.00\r",
      "\r\n",
      "32009496855,\"MARCUS C STARKEY                                  \",\"PO BOX 1780                             \",\"PORT ARANSAS        \",\"TX\",\"78373\",178,00189,\"(LC42) STEVEN GATTO                               \",\"6877 STATE HIGHWAY 361                  \",\"PORT ARANSAS        \",\"TX\",\"78373\",178,    1,      1524.17,         0.00\r",
      "\r\n",
      "32009496855,\"MARCUS C STARKEY                                  \",\"PO BOX 1780                             \",\"PORT ARANSAS        \",\"TX\",\"78373\",178,00155,\"(PB 114) TERRY L CARTER                           \",\"2012 HWY 361 #114                       \",\"PORT ARANSAS        \",\"TX\",\"78373\",178,    1,      1550.00,         0.00\r",
      "\r\n",
      "32009496855,\"MARCUS C STARKEY                                  \",\"PO BOX 1780                             \",\"PORT ARANSAS        \",\"TX\",\"78373\",178,00156,\"(PB 205) LARRY OR VICKY MURPHY                    \",\"2012 HWY 361 # 205                      \",\"PORT ARANSAS        \",\"TX\",\"78373\",178,    1,      1653.23,         0.00\r",
      "\r\n"
     ]
    }
   ],
   "source": [
    "head hotl1501.csv"
   ]
  },
  {
   "cell_type": "markdown",
   "metadata": {},
   "source": [
    "OK, this looks like something, but we don't have a header row, which sucks. We can compare it against our [table layout](https://github.com/utdata/cli-tools/blob/master/hoteltax/HOTELTAX_LYOT.TXT):\n",
    "\n",
    "```\n",
    "Column_Order|Column_Description|Data_Type|Size\n",
    "Col01|Taxpayer Number|Number|11\n",
    "Col02|Taxpayer Name|Char|50\n",
    "Col03|Taxpayer Address|Char|40\n",
    "Col04|Taxpayer City|Char|20\n",
    "Col05|Taxpayer State|Char|2\n",
    "Col06|Taxpayer Zip Code|Number|5\n",
    "Col07|Taxpayer County|Number|3\n",
    "Col08|Outlet Number|Number|5\n",
    "Col09|Location Name|Char|50\n",
    "Col10|Location Address|Char|40\n",
    "Col11|Location City|Char|20\n",
    "Col12|Location State|Char|2\n",
    "Col13|Location Zip Code|Number|5\n",
    "Col14|Location County|Number|3\n",
    "Col15|Location Room Capacity|Number|5\n",
    "Col16|Location Tot Room Receipts|Number|13\n",
    "Col17|Location Taxable Receipts|Number|13\n",
    "\n",
    "```"
   ]
  },
  {
   "cell_type": "markdown",
   "metadata": {},
   "source": [
    "We need to add a header row to all of these files or we'll have problems later. This is one place that we are making changes to the original file, though we'll make a backup while we're doing it, and then remove them. We could do this manually, but even with a text editor, it takes a long time to just save the changes.\n",
    "\n",
    "We'll use a program called `sed`. I'll be honest, this took me a couple of hours to figure out, especially since Mac handles `sed -i` differently than unix, and I thought I was going crazy. So, this is possibly a Mac-only solution.\n",
    "\n",
    "First, we need the text that will go in the header row. I built this by hand based on the layout file above:\n",
    "\n",
    "```\n",
    "Taxpayer Number,Taxpayer Name,Taxpayer Address,Taxpayer City,Taxpayer State,Taxpayer Zip Code,Taxpayer County,Outlet Number,Location Name,Location Address,Location City,Location State,Location Zip Code,Location County,Location Room Capacity,Location Tot Room Receipts,Location Taxable Receipts\n",
    "```\n",
    "\n",
    "Here is the command to change one of the files, and then I'll explain it:"
   ]
  },
  {
   "cell_type": "code",
   "execution_count": 25,
   "metadata": {
    "collapsed": false
   },
   "outputs": [
    {
     "name": "stdout",
     "output_type": "stream",
     "text": []
    }
   ],
   "source": [
    "sed -i '.bak' '1i \\\n",
    "Taxpayer Number,Taxpayer Name,Taxpayer Address,Taxpayer City,Taxpayer State,Taxpayer Zip Code,Taxpayer County,Outlet Number,Location Name,Location Address,Location City,Location State,Location Zip Code,Location County,Location Room Capacity,Location Tot Room Receipts,Location Taxable Receipts\n",
    "' hotl1501.csv"
   ]
  },
  {
   "cell_type": "markdown",
   "metadata": {},
   "source": [
    "OK, let's take a look at that file to make sure the header line was added properly."
   ]
  },
  {
   "cell_type": "code",
   "execution_count": 30,
   "metadata": {
    "collapsed": false
   },
   "outputs": [
    {
     "name": "stdout",
     "output_type": "stream",
     "text": [
      "Taxpayer Number,Taxpayer Name,Taxpayer Address,Taxpayer City,Taxpayer State,Taxpayer Zip Code,Taxpayer County,Outlet Number,Location Name,Location Address,Location City,Location State,Location Zip Code,Location County,Location Room Capacity,Location Tot Room Receipts,Location Taxable Receipts\r\n",
      "32050067050,\"COASTAL WAVES VACATIONS, LLC                      \",\"3616 7 MILE RD                          \",\"GALVESTON           \",\"TX\",\"77554\",084,00010,\" COASTAL WAVES VACATIONS                          \",\"4158 GREEN HERON DR                     \",\"GALVESTON           \",\"TX\",\"77554\",084,    1,       530.00,       530.00\r",
      "\r\n",
      "32049649729,\"ALL SEASONS RENTALS,  INC.                        \",\"15113 BAT HAWK CIR                      \",\"AUSTIN              \",\"TX\",\"78738\",227,00022,\" CROSSING C                                       \",\"613 HI CIR N                            \",\"HORSESHOE BAY       \",\"TX\",\"78657\",150,    1,         0.00,         0.00\r",
      "\r\n",
      "32039987733,\"TIRUPATI LODGING CORP.                            \",\"1407 S MAIN ST                          \",\"HIGHLANDS           \",\"TX\",\"77562\",101,00001,\" HIGHLANDS SUITES                                 \",\"1407 S MAIN ST                          \",\"HIGHLANDS           \",\"TX\",\"77562\",101,   31,     27264.87,     22864.87\r",
      "\r\n",
      "32001947285,\"IRMA A HARTMAN                                    \",\"2423 E MAIN ST                          \",\"EAGLE PASS          \",\"TX\",\"78852\",159,00001,\" HOLLY INN                                        \",\"2423 E MAIN ST                          \",\"EAGLE PASS          \",\"TX\",\"78852\",159,   70,      9553.98,      9553.98\r",
      "\r\n"
     ]
    }
   ],
   "source": [
    "head -n 5 hotl1501.csv"
   ]
  },
  {
   "cell_type": "markdown",
   "metadata": {
    "collapsed": false
   },
   "source": [
    "Looks good. Now, let's do this for the other 11 files. (We don't want to do the first one again, or we'll add the header twice.)"
   ]
  },
  {
   "cell_type": "code",
   "execution_count": 31,
   "metadata": {
    "collapsed": false
   },
   "outputs": [
    {
     "name": "stdout",
     "output_type": "stream",
     "text": []
    }
   ],
   "source": [
    "sed -i '.bak' '1i \\\n",
    "Taxpayer Number,Taxpayer Name,Taxpayer Address,Taxpayer City,Taxpayer State,Taxpayer Zip Code,Taxpayer County,Outlet Number,Location Name,Location Address,Location City,Location State,Location Zip Code,Location County,Location Room Capacity,Location Tot Room Receipts,Location Taxable Receipts\n",
    "' hotl1502.csv\n",
    "sed -i '.bak' '1i \\\n",
    "Taxpayer Number,Taxpayer Name,Taxpayer Address,Taxpayer City,Taxpayer State,Taxpayer Zip Code,Taxpayer County,Outlet Number,Location Name,Location Address,Location City,Location State,Location Zip Code,Location County,Location Room Capacity,Location Tot Room Receipts,Location Taxable Receipts\n",
    "' hotl1503.csv\n",
    "sed -i '.bak' '1i \\\n",
    "Taxpayer Number,Taxpayer Name,Taxpayer Address,Taxpayer City,Taxpayer State,Taxpayer Zip Code,Taxpayer County,Outlet Number,Location Name,Location Address,Location City,Location State,Location Zip Code,Location County,Location Room Capacity,Location Tot Room Receipts,Location Taxable Receipts\n",
    "' hotl1504.csv\n",
    "sed -i '.bak' '1i \\\n",
    "Taxpayer Number,Taxpayer Name,Taxpayer Address,Taxpayer City,Taxpayer State,Taxpayer Zip Code,Taxpayer County,Outlet Number,Location Name,Location Address,Location City,Location State,Location Zip Code,Location County,Location Room Capacity,Location Tot Room Receipts,Location Taxable Receipts\n",
    "' hotl1505.csv\n",
    "sed -i '.bak' '1i \\\n",
    "Taxpayer Number,Taxpayer Name,Taxpayer Address,Taxpayer City,Taxpayer State,Taxpayer Zip Code,Taxpayer County,Outlet Number,Location Name,Location Address,Location City,Location State,Location Zip Code,Location County,Location Room Capacity,Location Tot Room Receipts,Location Taxable Receipts\n",
    "' hotl1506.csv\n",
    "sed -i '.bak' '1i \\\n",
    "Taxpayer Number,Taxpayer Name,Taxpayer Address,Taxpayer City,Taxpayer State,Taxpayer Zip Code,Taxpayer County,Outlet Number,Location Name,Location Address,Location City,Location State,Location Zip Code,Location County,Location Room Capacity,Location Tot Room Receipts,Location Taxable Receipts\n",
    "' hotl1507.csv\n",
    "sed -i '.bak' '1i \\\n",
    "Taxpayer Number,Taxpayer Name,Taxpayer Address,Taxpayer City,Taxpayer State,Taxpayer Zip Code,Taxpayer County,Outlet Number,Location Name,Location Address,Location City,Location State,Location Zip Code,Location County,Location Room Capacity,Location Tot Room Receipts,Location Taxable Receipts\n",
    "' hotl1508.csv\n",
    "sed -i '.bak' '1i \\\n",
    "Taxpayer Number,Taxpayer Name,Taxpayer Address,Taxpayer City,Taxpayer State,Taxpayer Zip Code,Taxpayer County,Outlet Number,Location Name,Location Address,Location City,Location State,Location Zip Code,Location County,Location Room Capacity,Location Tot Room Receipts,Location Taxable Receipts\n",
    "' hotl1509.csv\n",
    "sed -i '.bak' '1i \\\n",
    "Taxpayer Number,Taxpayer Name,Taxpayer Address,Taxpayer City,Taxpayer State,Taxpayer Zip Code,Taxpayer County,Outlet Number,Location Name,Location Address,Location City,Location State,Location Zip Code,Location County,Location Room Capacity,Location Tot Room Receipts,Location Taxable Receipts\n",
    "' hotl1510.csv\n",
    "sed -i '.bak' '1i \\\n",
    "Taxpayer Number,Taxpayer Name,Taxpayer Address,Taxpayer City,Taxpayer State,Taxpayer Zip Code,Taxpayer County,Outlet Number,Location Name,Location Address,Location City,Location State,Location Zip Code,Location County,Location Room Capacity,Location Tot Room Receipts,Location Taxable Receipts\n",
    "' hotl1511.csv\n",
    "sed -i '.bak' '1i \\\n",
    "Taxpayer Number,Taxpayer Name,Taxpayer Address,Taxpayer City,Taxpayer State,Taxpayer Zip Code,Taxpayer County,Outlet Number,Location Name,Location Address,Location City,Location State,Location Zip Code,Location County,Location Room Capacity,Location Tot Room Receipts,Location Taxable Receipts\n",
    "' hotl1512.csv"
   ]
  },
  {
   "cell_type": "markdown",
   "metadata": {},
   "source": [
    "Now, one thing about this ... we created a bunch of *.bak* files as backups that we'll need to get rid of. To do so, we get to use the power of `rm`.\n",
    "\n",
    "Let's look at all the files first."
   ]
  },
  {
   "cell_type": "code",
   "execution_count": null,
   "metadata": {
    "collapsed": true
   },
   "outputs": [],
   "source": []
  },
  {
   "cell_type": "markdown",
   "metadata": {},
   "source": [
    "A couple of things about that file. Note that Col02, Taxpayer name is 50 characters long. Look at the first line of data:\n",
    "\n",
    "```\n",
    "32050067050,\"COASTAL WAVES VACATIONS, LLC                      \",\"3616 7 MILE RD                          \",\"GALVESTON           \",\"TX\",\"77554\",084,00010,\" COASTAL WAVES VACATIONS                          \",\"4158 GREEN HERON DR                     \",\"GALVESTON           \",\"TX\",\"77554\",084,    1,       530.00,       530.00\n",
    "```\n",
    "\n",
    "Notice anything about that \"COASTAL WAVES VACATIONS, LLC\" name? That name is in quotes, but look where quote mark closes. That field uses the full 50 characters, filled in with spaces. Same for the address, and all the other fields. This is one of the things **csvkit** can help us with. We also want to stack all these files on top of each other, and then pull out just the files we are interested in.\n",
    "\n",
    "Let's move out of our data directory and create a new one to put our processed data into. We don't ever want to change our original data."
   ]
  },
  {
   "cell_type": "code",
   "execution_count": 29,
   "metadata": {
    "collapsed": false
   },
   "outputs": [
    {
     "name": "stdout",
     "output_type": "stream",
     "text": []
    }
   ],
   "source": [
    "cd ../"
   ]
  },
  {
   "cell_type": "code",
   "execution_count": 30,
   "metadata": {
    "collapsed": false
   },
   "outputs": [
    {
     "name": "stdout",
     "output_type": "stream",
     "text": []
    }
   ],
   "source": [
    "mkdir data-done"
   ]
  },
  {
   "cell_type": "markdown",
   "metadata": {},
   "source": [
    "You might want to have the [csvkit docs](https://csvkit.readthedocs.io) open as a reference as we go through this.\n",
    "\n",
    "Csvkit has a command called `in2csv` that not only converts .xlsx files to .csv, it also cleans up .csv files like all the spaces in our name. We want to use this technique on our files, but at 2.8Ms, it would take some time to do one file, much less all 12. It's worth doing if you have time. We don't.\n",
    "\n",
    "So what we'll do is find all our Austin results and copy just those, and then fix 'em up.\n",
    "\n",
    "We can see from our table layout above, that the 11th column is the Location City, but let's use `csvcut -n` to peak at the first row of the first file to confirm. the `-n` stands for `--names`, because it is usually used to see the header row. In our case we don't have one, but we'll peak at the first row.)"
   ]
  },
  {
   "cell_type": "code",
   "execution_count": 36,
   "metadata": {
    "collapsed": false
   },
   "outputs": [
    {
     "name": "stdout",
     "output_type": "stream",
     "text": [
      "  1: 32050067050\r\n",
      "  2: COASTAL WAVES VACATIONS, LLC                      \r\n",
      "  3: 3616 7 MILE RD                          \r\n",
      "  4: GALVESTON           \r\n",
      "  5: TX\r\n",
      "  6: 77554\r\n",
      "  7: 084\r\n",
      "  8: 00010\r\n",
      "  9:  COASTAL WAVES VACATIONS                          \r\n",
      " 10: 4158 GREEN HERON DR                     \r\n",
      " 11: GALVESTON           \r\n",
      " 12: TX\r\n",
      " 13: 77554\r\n",
      " 14: 084\r\n",
      " 15:     1\r\n",
      " 16:        530.00\r\n",
      " 17:        530.00\r\n"
     ]
    }
   ],
   "source": [
    "csvcut -n data/hotl1501.csv"
   ]
  },
  {
   "cell_type": "markdown",
   "metadata": {},
   "source": [
    "OK, we can see GALVESTON is in the 11th column, which looks good. We can use `csvgrep` to find the AUSTIN rows. This means we'll search the Location City column for the word \"AUSTIN\" and get just those rows.\n",
    "\n",
    "Grep is a command-line tool for regular expressions, and `csvgrep` works the same way. It needs a couple of arguments:\n",
    "\n",
    "* `-c` is which column to search. We want `11`.\n",
    "* `-m` you would use to match an exact string.\n",
    "* `-r` allows you to build a regular expression to search.\n",
    "\n",
    "The other thing we are going to do is to **pipe** the result into another command, `head` in this case. This is so we can just look at the first couple of lines. But this concept is really important ... you can take the \"out\" result of one command and make it the \"in\" command of another, and you can string these together into a pipeline. That's what we're working on, piece by piece."
   ]
  },
  {
   "cell_type": "code",
   "execution_count": 63,
   "metadata": {
    "collapsed": false
   },
   "outputs": [
    {
     "name": "stdout",
     "output_type": "stream",
     "text": [
      "Taxpayer Number,Taxpayer Name,Taxpayer Address,Taxpayer City,Taxpayer State,Taxpayer Zip Code,Taxpayer County,Outlet Number,Location Name,Location Address,Location City,Location State,Location Zip Code,Location County,Location Room Capacity,Location Tot Room Receipts,Location Taxable Receipts\r\n"
     ]
    }
   ],
   "source": [
    "cat data/header.csv"
   ]
  },
  {
   "cell_type": "code",
   "execution_count": 62,
   "metadata": {
    "collapsed": false
   },
   "outputs": [
    {
     "name": "stdout",
     "output_type": "stream",
     "text": [
      "32039987733,TIRUPATI LODGING CORP.                            ,1407 S MAIN ST                          ,HIGHLANDS           ,TX,77562,101,00001, HIGHLANDS SUITES                                 ,1407 S MAIN ST                          ,HIGHLANDS           ,TX,77562,101,   31,     32080.75,     16964.50\r\n",
      "32016602719,BHAKTA DAYARAM                                    ,2627 MANOR RD                           ,AUSTIN              ,TX,78722,227,00001,ACE MOTEL                                         ,2627 MANOR RD                           ,AUSTIN              ,TX,78722,227,   27,     11151.00,      9331.00\r\n",
      "32016658448,SIDNEY CORINNE LOCK                               ,4300 AVENUE G                           ,AUSTIN              ,TX,78751,227,00005,ADAMS HOUSE BED & BREAKFAST                       ,4300 AVENUE G                           ,AUSTIN              ,TX,78751,227,    3,     17231.00,     16993.00\r\n",
      "32043492993,AMANDA K CRIBBS                                   ,4202 FLAGSTAFF DR                       ,AUSTIN              ,TX,78759,227,00007,ALLANDALE RENTALS                                 ,1107A BRENTWOOD ST                      ,AUSTIN              ,TX,78757,227,    2,       972.00,       972.00\r\n",
      "32043492993,AMANDA K CRIBBS                                   ,4202 FLAGSTAFF DR                       ,AUSTIN              ,TX,78759,227,00009,ALLANDALE RENTALS                                 ,11900 ALOE VERA TRL                     ,AUSTIN              ,TX,78750,246,    8,      4430.00,      4430.00\r\n",
      "32043492993,AMANDA K CRIBBS                                   ,4202 FLAGSTAFF DR                       ,AUSTIN              ,TX,78759,227,00010,ALLANDALE RENTALS DUPLEX                          ,2200 LANIER DR # B                      ,AUSTIN              ,TX,78757,227,    1,      3560.00,         0.00\r\n",
      "32043492993,AMANDA K CRIBBS                                   ,4202 FLAGSTAFF DR                       ,AUSTIN              ,TX,78759,227,00008,ALLANDALE RENTALS/DUPLEX                          ,2200 LANIER DR # A                      ,AUSTIN              ,TX,78757,227,    4,      3661.00,       413.00\r\n",
      "32043492993,AMANDA K CRIBBS                                   ,4202 FLAGSTAFF DR                       ,AUSTIN              ,TX,78759,227,00004,ALLENDALE RENTALS                                 ,2105 LANIER DR                          ,AUSTIN              ,TX,78757,227,    1,      3460.00,      3460.00\r\n",
      "32043492993,AMANDA K CRIBBS                                   ,4202 FLAGSTAFF DR                       ,AUSTIN              ,TX,78759,227,00006,ALLENDALE RENTALS                                 ,5010 PLACID PL                          ,AUSTIN              ,TX,78731,227,    1,      4596.00,      4596.00\r\n",
      "32024286760,\"ALTEMATE REAL ESTATE, LLC                         \",1318 URSULINES AVE                      ,NEW ORLEANS         ,LA,70116,000,00008,ALTEMATE REAL ESTATE LLC                          ,76 SAN MARCOS ST                        ,AUSTIN              ,TX,78702,227,    1,      1568.00,       250.00\r\n"
     ]
    }
   ],
   "source": [
    "cat data/header.csv | csvgrep -c 11 -r \"^AUSTIN*\" data/hotl1502.csv | head"
   ]
  },
  {
   "cell_type": "code",
   "execution_count": 31,
   "metadata": {
    "collapsed": false
   },
   "outputs": [
    {
     "name": "stdout",
     "output_type": "stream",
     "text": []
    }
   ],
   "source": [
    "in2csv data/hotl1501.csv > data-done/hotl1501.csv"
   ]
  },
  {
   "cell_type": "code",
   "execution_count": 32,
   "metadata": {
    "collapsed": false
   },
   "outputs": [
    {
     "name": "stdout",
     "output_type": "stream",
     "text": []
    }
   ],
   "source": [
    "csvgrep -c 11 -r \"^AUSTIN\" data/hotl1501.csv | in2csv -f csv > data-done/austin1501.csv"
   ]
  },
  {
   "cell_type": "code",
   "execution_count": 35,
   "metadata": {
    "collapsed": false
   },
   "outputs": [
    {
     "name": "stdout",
     "output_type": "stream",
     "text": [
      "total 3016\r\n",
      "-rw-r--r--  1 christian  staff    89374 Jul 10 14:53 austin1501.csv\r\n",
      "-rw-r--r--  1 christian  staff  1443053 Jul 10 14:51 hotl1501.csv\r\n",
      "-rw-r--r--  1 christian  staff     1710 Jul 10 14:35 test01-done.csv\r\n",
      "-rw-r--r--  1 christian  staff     3250 Jul 10 14:33 test01.csv\r\n"
     ]
    }
   ],
   "source": [
    "ls -l data-done"
   ]
  },
  {
   "cell_type": "code",
   "execution_count": null,
   "metadata": {
    "collapsed": true
   },
   "outputs": [],
   "source": []
  }
 ],
 "metadata": {
  "kernelspec": {
   "display_name": "Bash",
   "language": "bash",
   "name": "bash"
  },
  "language_info": {
   "codemirror_mode": "shell",
   "file_extension": ".sh",
   "mimetype": "text/x-sh",
   "name": "bash"
  }
 },
 "nbformat": 4,
 "nbformat_minor": 0
}
